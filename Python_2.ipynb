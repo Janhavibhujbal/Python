{
  "nbformat": 4,
  "nbformat_minor": 0,
  "metadata": {
    "colab": {
      "name": "Python 2",
      "provenance": [],
      "collapsed_sections": [],
      "authorship_tag": "ABX9TyOw4MMjqQ8FYhpZt899R3Wf",
      "include_colab_link": true
    },
    "kernelspec": {
      "name": "python3",
      "display_name": "Python 3"
    },
    "language_info": {
      "name": "python"
    }
  },
  "cells": [
    {
      "cell_type": "markdown",
      "metadata": {
        "id": "view-in-github",
        "colab_type": "text"
      },
      "source": [
        "<a href=\"https://colab.research.google.com/github/Janhavibhujbal/Python1/blob/main/Python_2.ipynb\" target=\"_parent\"><img src=\"https://colab.research.google.com/assets/colab-badge.svg\" alt=\"Open In Colab\"/></a>"
      ]
    },
    {
      "cell_type": "code",
      "execution_count": null,
      "metadata": {
        "colab": {
          "base_uri": "https://localhost:8080/"
        },
        "id": "JSDJFUz0faK7",
        "outputId": "2b7567c4-c77b-4b6c-c42f-279d84f777dd"
      },
      "outputs": [
        {
          "output_type": "stream",
          "name": "stdout",
          "text": [
            "Janhavi Bhujbal\n"
          ]
        }
      ],
      "source": [
        "Name=\"Janhavi\"\n",
        "Surname=\"Bhujbal\"\n",
        "print(Name+\" \"+Surname)"
      ]
    },
    {
      "cell_type": "code",
      "source": [
        "a=2.3\n",
        "b=312\n",
        "c=3j\n",
        "x=int(a)\n",
        "print(x)\n",
        "y=float(b)\n",
        "print(y)\n",
        "z=complex(c)\n",
        "print(z)\n",
        "p=complex(a)\n",
        "print(p)\n",
        "q=complex(b)\n",
        "print(q)"
      ],
      "metadata": {
        "colab": {
          "base_uri": "https://localhost:8080/"
        },
        "id": "caKrGvrEnQ5y",
        "outputId": "ed10fc49-d505-4d30-c209-377926c1ba21"
      },
      "execution_count": null,
      "outputs": [
        {
          "output_type": "stream",
          "name": "stdout",
          "text": [
            "2\n",
            "312.0\n",
            "3j\n",
            "(2.3+0j)\n",
            "(312+0j)\n"
          ]
        }
      ]
    },
    {
      "cell_type": "code",
      "source": [
        "name=\"janhavi\"\n",
        "age=20\n",
        "Class=\"TYBsc\"\n",
        "College=\"SP\"\n",
        "myorder=\"My name is {a} and I'm {b} years old, I study {c} in {d} college\"\n",
        "\n",
        "print(myorder.format(a=name,b=age,c=Class,d=College))"
      ],
      "metadata": {
        "colab": {
          "base_uri": "https://localhost:8080/"
        },
        "id": "RUZbAQgJjaF7",
        "outputId": "6febd40b-43ac-43fc-a74f-b18cce36a27a"
      },
      "execution_count": null,
      "outputs": [
        {
          "output_type": "stream",
          "name": "stdout",
          "text": [
            "My name is janhavi and I'm 20 years old, I study TYBsc in SP college\n"
          ]
        }
      ]
    },
    {
      "cell_type": "code",
      "source": [
        "Quantity=30\n",
        "Fruit=\"apple\"\n",
        "Price=300\n",
        "Name=\"Janhavi\"\n",
        "ppp=\"I {d} want {a} {b} for {c} rupees. \"\n",
        "print(ppp.format(a=Quantity,b=Fruit,c=Price,d=Name))"
      ],
      "metadata": {
        "colab": {
          "base_uri": "https://localhost:8080/"
        },
        "id": "PAsfQQZlnlu5",
        "outputId": "7c9fb32a-ca25-4a5b-f8f5-65a0c69ec3fc"
      },
      "execution_count": null,
      "outputs": [
        {
          "output_type": "stream",
          "name": "stdout",
          "text": [
            "I Janhavi want 30 apple for 300 rupees. \n"
          ]
        }
      ]
    }
  ]
}