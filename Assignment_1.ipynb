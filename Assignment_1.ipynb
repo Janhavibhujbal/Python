{
  "nbformat": 4,
  "nbformat_minor": 0,
  "metadata": {
    "colab": {
      "name": "Assignment 1",
      "provenance": [],
      "collapsed_sections": [],
      "authorship_tag": "ABX9TyOqsDqdZOpXu3JxuF+IIWIp",
      "include_colab_link": true
    },
    "kernelspec": {
      "name": "python3",
      "display_name": "Python 3"
    },
    "language_info": {
      "name": "python"
    }
  },
  "cells": [
    {
      "cell_type": "markdown",
      "metadata": {
        "id": "view-in-github",
        "colab_type": "text"
      },
      "source": [
        "<a href=\"https://colab.research.google.com/github/Janhavibhujbal/Python/blob/main/Assignment_1.ipynb\" target=\"_parent\"><img src=\"https://colab.research.google.com/assets/colab-badge.svg\" alt=\"Open In Colab\"/></a>"
      ]
    },
    {
      "cell_type": "code",
      "source": [
        "A=[\"Janhavi Bhujbal\",\"Age=21\"]\n",
        "B=[\"SP College\",\"Class= TYBSC\"]\n",
        "tuple(A)\n",
        "\n"
      ],
      "metadata": {
        "colab": {
          "base_uri": "https://localhost:8080/"
        },
        "id": "fh3BGY5BXEpQ",
        "outputId": "46cfc2e3-5c15-41ee-d67a-3e00f8a94723"
      },
      "execution_count": 16,
      "outputs": [
        {
          "output_type": "execute_result",
          "data": {
            "text/plain": [
              "('Janhavi Bhujbal', 'Age=21')"
            ]
          },
          "metadata": {},
          "execution_count": 16
        }
      ]
    },
    {
      "cell_type": "code",
      "source": [
        "tuple(B)"
      ],
      "metadata": {
        "colab": {
          "base_uri": "https://localhost:8080/"
        },
        "id": "mS5UVmBXElLr",
        "outputId": "617ea42c-6590-49b8-b783-6fd0abd8ef04"
      },
      "execution_count": 17,
      "outputs": [
        {
          "output_type": "execute_result",
          "data": {
            "text/plain": [
              "('SP College', 'Class= TYBSC')"
            ]
          },
          "metadata": {},
          "execution_count": 17
        }
      ]
    },
    {
      "cell_type": "code",
      "source": [
        "A=(\"Janhavi Bhujbal\",\"Age=21\",\"Female\",\"Student\")\n",
        "B=(\"College=SP College\",\"Class= TYBSC\",\"Roll no=9139\")\n",
        "print(A,B)\n",
        "\n",
        "print(A[:3])\n",
        "print(A[2:])\n",
        "print(A[3])\n",
        "print(A[:2])\n",
        "print(A[1:2])\n",
        "print(B,\"\\n\")\n"
      ],
      "metadata": {
        "colab": {
          "base_uri": "https://localhost:8080/"
        },
        "id": "mmNWhfzeX-sY",
        "outputId": "ae98bc8a-e796-4460-f2ef-eb08b465eb2a"
      },
      "execution_count": 19,
      "outputs": [
        {
          "output_type": "stream",
          "name": "stdout",
          "text": [
            "('Janhavi Bhujbal', 'Age=21', 'Female', 'Student') ('College=SP College', 'Class= TYBSC', 'Roll no=9139')\n",
            "('Janhavi Bhujbal', 'Age=21', 'Female')\n",
            "('Female', 'Student')\n",
            "Student\n",
            "('Janhavi Bhujbal', 'Age=21')\n",
            "('Age=21',)\n",
            "('College=SP College', 'Class= TYBSC', 'Roll no=9139') \n",
            "\n"
          ]
        }
      ]
    },
    {
      "cell_type": "code",
      "source": [
        "for j in A:\n",
        "    print(j)\n",
        "\n",
        "if \"Class=TYBSc\" in b:\n",
        "    print(\"Janhavi is in TYBSc\")\n",
        "\n",
        "C=tuple(\"Pune\")\n",
        "A+B+C"
      ],
      "metadata": {
        "colab": {
          "base_uri": "https://localhost:8080/"
        },
        "id": "GURbG-deGLpv",
        "outputId": "df3a99eb-6e99-467b-a186-59fe6feba5c9"
      },
      "execution_count": 20,
      "outputs": [
        {
          "output_type": "stream",
          "name": "stdout",
          "text": [
            "Janhavi Bhujbal\n",
            "Age=21\n",
            "Female\n",
            "Student\n"
          ]
        },
        {
          "output_type": "execute_result",
          "data": {
            "text/plain": [
              "('Janhavi Bhujbal',\n",
              " 'Age=21',\n",
              " 'Female',\n",
              " 'Student',\n",
              " 'College=SP College',\n",
              " 'Class= TYBSC',\n",
              " 'Roll no=9139',\n",
              " 'P',\n",
              " 'u',\n",
              " 'n',\n",
              " 'e')"
            ]
          },
          "metadata": {},
          "execution_count": 20
        }
      ]
    },
    {
      "cell_type": "code",
      "source": [
        "a = [\"A\",\"B\",\"C\"]\n",
        "print(type(a))\n",
        "print(a)\n",
        "print(\"\\n\")\n",
        "b = (\"A\",\"B\",\"C\")\n",
        "print(type(b))\n",
        "print(b)\n",
        "\n",
        "a[0]=\"Z\"\n",
        "print(a)\n",
        "b[0]=\"Z\"\n",
        "print(b)\n",
        "\"\"\"from below error we can conclude that We can replace items in list but can't replace in tuple\"\"\""
      ],
      "metadata": {
        "colab": {
          "base_uri": "https://localhost:8080/",
          "height": 356
        },
        "id": "ifwcRPWleL2K",
        "outputId": "d3b1f0ef-9f6c-467f-8820-21bc65816ace"
      },
      "execution_count": 22,
      "outputs": [
        {
          "output_type": "stream",
          "name": "stdout",
          "text": [
            "<class 'list'>\n",
            "['A', 'B', 'C']\n",
            "\n",
            "\n",
            "<class 'tuple'>\n",
            "('A', 'B', 'C')\n",
            "['Z', 'B', 'C']\n"
          ]
        },
        {
          "output_type": "error",
          "ename": "TypeError",
          "evalue": "ignored",
          "traceback": [
            "\u001b[0;31m---------------------------------------------------------------------------\u001b[0m",
            "\u001b[0;31mTypeError\u001b[0m                                 Traceback (most recent call last)",
            "\u001b[0;32m<ipython-input-22-8461b4167f69>\u001b[0m in \u001b[0;36m<module>\u001b[0;34m()\u001b[0m\n\u001b[1;32m      9\u001b[0m \u001b[0ma\u001b[0m\u001b[0;34m[\u001b[0m\u001b[0;36m0\u001b[0m\u001b[0;34m]\u001b[0m\u001b[0;34m=\u001b[0m\u001b[0;34m\"Z\"\u001b[0m\u001b[0;34m\u001b[0m\u001b[0;34m\u001b[0m\u001b[0m\n\u001b[1;32m     10\u001b[0m \u001b[0mprint\u001b[0m\u001b[0;34m(\u001b[0m\u001b[0ma\u001b[0m\u001b[0;34m)\u001b[0m\u001b[0;34m\u001b[0m\u001b[0;34m\u001b[0m\u001b[0m\n\u001b[0;32m---> 11\u001b[0;31m \u001b[0mb\u001b[0m\u001b[0;34m[\u001b[0m\u001b[0;36m0\u001b[0m\u001b[0;34m]\u001b[0m\u001b[0;34m=\u001b[0m\u001b[0;34m\"Z\"\u001b[0m\u001b[0;34m\u001b[0m\u001b[0;34m\u001b[0m\u001b[0m\n\u001b[0m\u001b[1;32m     12\u001b[0m \u001b[0mprint\u001b[0m\u001b[0;34m(\u001b[0m\u001b[0mb\u001b[0m\u001b[0;34m)\u001b[0m\u001b[0;34m\u001b[0m\u001b[0;34m\u001b[0m\u001b[0m\n\u001b[1;32m     13\u001b[0m \u001b[0;34m\"\"\"from below error we can conclude that We can replace items in list but can't replace in tuple\"\"\"\u001b[0m\u001b[0;34m\u001b[0m\u001b[0;34m\u001b[0m\u001b[0m\n",
            "\u001b[0;31mTypeError\u001b[0m: 'tuple' object does not support item assignment"
          ]
        }
      ]
    }
  ]
}