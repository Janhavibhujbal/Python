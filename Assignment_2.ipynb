{
  "nbformat": 4,
  "nbformat_minor": 0,
  "metadata": {
    "colab": {
      "name": "Assignment 2",
      "provenance": [],
      "collapsed_sections": [],
      "authorship_tag": "ABX9TyMgq+YTKx2zcjMLnuADB9Eo",
      "include_colab_link": true
    },
    "kernelspec": {
      "name": "python3",
      "display_name": "Python 3"
    },
    "language_info": {
      "name": "python"
    }
  },
  "cells": [
    {
      "cell_type": "markdown",
      "metadata": {
        "id": "view-in-github",
        "colab_type": "text"
      },
      "source": [
        "<a href=\"https://colab.research.google.com/github/Janhavibhujbal/Python/blob/main/Assignment_2.ipynb\" target=\"_parent\"><img src=\"https://colab.research.google.com/assets/colab-badge.svg\" alt=\"Open In Colab\"/></a>"
      ]
    },
    {
      "cell_type": "markdown",
      "source": [
        "Q1.Write a Python User Define Function to reverse a string"
      ],
      "metadata": {
        "id": "OAyH264APceU"
      }
    },
    {
      "cell_type": "markdown",
      "source": [
        "Q1. Hint :If I Pass the Parameter >> \"python\" My output will be >> \"nohtyp\""
      ],
      "metadata": {
        "id": "jcSu2G4yPvF7"
      }
    },
    {
      "cell_type": "code",
      "source": [
        "##Solution Q1. \n",
        "def rev(Inp):\n",
        " ReverseInp=Inp[::-1] # Slicing\n",
        " print (\"The Reversed String is\",ReverseInp) # Print the reversed string\n",
        "\n",
        "Stri=input(\"Enter the String to be Reversed \") # Input From the User\n",
        "rev(Stri) #Called the function with user input as parameter"
      ],
      "metadata": {
        "colab": {
          "base_uri": "https://localhost:8080/"
        },
        "id": "xMxID4_ZP8H4",
        "outputId": "ce090331-d66a-4adb-8bca-f6b64b3ee835"
      },
      "execution_count": 1,
      "outputs": [
        {
          "output_type": "stream",
          "name": "stdout",
          "text": [
            "Enter the String to be Reversed Python\n",
            "The Reversed String is nohtyP\n"
          ]
        }
      ]
    },
    {
      "cell_type": "markdown",
      "source": [
        "Q2. Write a Python min_max function which will return Min, Max of 4 inputs from the user."
      ],
      "metadata": {
        "id": "IXknIadzQQkD"
      }
    },
    {
      "cell_type": "code",
      "source": [
        "##Solution Q2. \n",
        "Number1=(int)(input(\"\\n\\t Enter your 1st number: \"))\n",
        "Number2=(int)(input(\"\\n\\t Enter your 2st number: \"))\n",
        "Number3=(int)(input(\"\\n\\t Enter your 3st number: \"))\n",
        "Number4=(int)(input(\"\\n\\t Enter your 4st number: \"))\n",
        "print(\"Maximum number is: \",max(Number1,Number2,Number3,Number4))\n",
        "print(\"Minimum number is:\",min(Number1,Number2,Number3,Number4))"
      ],
      "metadata": {
        "colab": {
          "base_uri": "https://localhost:8080/"
        },
        "id": "BAwGOPGYQrIb",
        "outputId": "8b5ecda1-2dd8-4326-de6e-79de0e829959"
      },
      "execution_count": 5,
      "outputs": [
        {
          "output_type": "stream",
          "name": "stdout",
          "text": [
            "\n",
            "\t Enter your 1st number: 5\n",
            "\n",
            "\t Enter your 2st number: 5\n",
            "\n",
            "\t Enter your 3st number: 9\n",
            "\n",
            "\t Enter your 4st number: 7\n",
            "Maximum number is:  9\n",
            "Minimum number is: 5\n"
          ]
        }
      ]
    },
    {
      "cell_type": "markdown",
      "source": [
        "Q3. Write a Python function to sum 4 inputs from the user."
      ],
      "metadata": {
        "id": "zeDVX1JxUFBL"
      }
    },
    {
      "cell_type": "code",
      "source": [
        "##Solution Q3. \n",
        "def Sum4(A,B,C,D):\n",
        "  sum = A+B+C+D\n",
        "  print(\"The Sum of the input vlaues is: \", sum)\n",
        "\n",
        "j, k, l, m = list(map(float, input(\"Enter four values to find sum of them separated by space: \").split()))\n",
        "# Alternative  \n",
        "# j = float(input(\"Enter the first value: \"))\n",
        "# k = float(input(\"Enter the second value: \"))\n",
        "# l = float(input(\"Enter the third value: \"))\n",
        "# m = float(input(\"Enter the fourth value: \"))\n",
        "\n",
        "Sum4 (j,k,l,m)"
      ],
      "metadata": {
        "colab": {
          "base_uri": "https://localhost:8080/"
        },
        "id": "oT-RpdrMUM8j",
        "outputId": "64e78d54-56be-429d-cf10-9c962516004f"
      },
      "execution_count": 10,
      "outputs": [
        {
          "output_type": "stream",
          "name": "stdout",
          "text": [
            "Enter four values to find sum of them separated by space: 5 2 4 1\n",
            "The Sum of the input vlaues is:  12.0\n"
          ]
        }
      ]
    },
    {
      "cell_type": "markdown",
      "source": [
        "Q4. Find out the Command which will return you number of local variables from the user define function."
      ],
      "metadata": {
        "id": "Kg6pBnvjUNdE"
      }
    },
    {
      "cell_type": "code",
      "source": [
        "##Solution Q4. \n",
        "# Suppose here our user defined function is rev\n",
        "# Then to find the number of local variables we have to use the following syntax\n",
        "## User_Defined_Function_Name.__code__.co_nlocals\n",
        "print(\"The Number of Local Variables in the given User Defined Function is: \" ,rev.__code__.co_nlocals)"
      ],
      "metadata": {
        "colab": {
          "base_uri": "https://localhost:8080/"
        },
        "id": "x34-YXSPUT1o",
        "outputId": "b7b1adf9-d333-4442-b694-d16e0cd1c476"
      },
      "execution_count": 23,
      "outputs": [
        {
          "output_type": "stream",
          "name": "stdout",
          "text": [
            "The Number of Local Variables in the given User Defined Function is:  2\n"
          ]
        }
      ]
    },
    {
      "cell_type": "markdown",
      "source": [
        "Q5.Write Python Function to get even number from the list. List len must be equal to 8."
      ],
      "metadata": {
        "id": "4VqEldxWUUge"
      }
    },
    {
      "cell_type": "code",
      "source": [
        "Even=[95,65,63,26,20]\n",
        "\n",
        "for Num in Even:\n",
        "    if Num %2==0:\n",
        "        print(Num)"
      ],
      "metadata": {
        "colab": {
          "base_uri": "https://localhost:8080/"
        },
        "id": "Ixrq6XquUm0-",
        "outputId": "0fa8d6f9-44d5-4164-a4ec-af38e24b509d"
      },
      "execution_count": 26,
      "outputs": [
        {
          "output_type": "stream",
          "name": "stdout",
          "text": [
            "26\n",
            "20\n"
          ]
        }
      ]
    }
  ]
}