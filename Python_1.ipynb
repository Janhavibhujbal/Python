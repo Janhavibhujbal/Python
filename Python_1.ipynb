{
  "nbformat": 4,
  "nbformat_minor": 0,
  "metadata": {
    "colab": {
      "name": "Copy of Python1",
      "provenance": [],
      "collapsed_sections": [],
      "toc_visible": true,
      "authorship_tag": "ABX9TyPv2A1OMPZiYmOjJf5zKydE",
      "include_colab_link": true
    },
    "kernelspec": {
      "name": "python3",
      "display_name": "Python 3"
    },
    "language_info": {
      "name": "python"
    }
  },
  "cells": [
    {
      "cell_type": "markdown",
      "metadata": {
        "id": "view-in-github",
        "colab_type": "text"
      },
      "source": [
        "<a href=\"https://colab.research.google.com/github/Janhavibhujbal/Python/blob/main/Python1.ipynb\" target=\"_parent\"><img src=\"https://colab.research.google.com/assets/colab-badge.svg\" alt=\"Open In Colab\"/></a>"
      ]
    },
    {
      "cell_type": "code",
      "execution_count": 1,
      "metadata": {
        "colab": {
          "base_uri": "https://localhost:8080/"
        },
        "id": "YTkrZToLBS9F",
        "outputId": "b8e0bda1-fc4f-47c6-f0cf-b74a4a867fc6"
      },
      "outputs": [
        {
          "output_type": "stream",
          "name": "stdout",
          "text": [
            "Addition= 11.125350000000001\n",
            "Subtraction= -4.83893\n",
            "Multiplication= 25.0895422694\n",
            "Division= 0.3937803646641126\n",
            "Power= 9334.78008694542\n",
            "Modulus= 3.14321\n",
            "Floor Division= 0.0\n"
          ]
        }
      ],
      "source": [
        "a=3.14321\n",
        "b=7.98214\n",
        "print(\"Addition=\",a+b)\n",
        "print(\"Subtraction=\",a-b)\n",
        "print(\"Multiplication=\",a*b)\n",
        "print(\"Division=\",a/b)\n",
        "print(\"Power=\",a**b)\n",
        "print(\"Modulus=\",a%b)\n",
        "print(\"Floor Division=\",a//b)\n"
      ]
    },
    {
      "cell_type": "code",
      "source": [
        "a=\"Janhavi\"\n",
        "\n",
        "b=5\n",
        "# here b is a number\n",
        "c='4'\n",
        "# here c is a string\n",
        "(a,b,c)"
      ],
      "metadata": {
        "id": "xjiX-uhVH_XF",
        "colab": {
          "base_uri": "https://localhost:8080/"
        },
        "outputId": "21ee2784-c02a-433b-d8c4-6fe8578bd13a"
      },
      "execution_count": 11,
      "outputs": [
        {
          "output_type": "execute_result",
          "data": {
            "text/plain": [
              "('Janhavi', 5, '4')"
            ]
          },
          "metadata": {},
          "execution_count": 11
        }
      ]
    }
  ]
}
